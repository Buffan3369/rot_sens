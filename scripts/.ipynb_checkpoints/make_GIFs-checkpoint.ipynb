{
 "cells": [
  {
   "cell_type": "markdown",
   "id": "ee91add9",
   "metadata": {},
   "source": [
    "This script was designed to be run in Google Colab. Requires to upload on the cloud all the images previously generated. It aims at producing a GIF animation of the Latitudinal Standard deviation projections on present-day maps.\n",
    "\n",
    "Please, don't forget to upload the input files and download the output (lat_sd.avi)."
   ]
  },
  {
   "cell_type": "code",
   "execution_count": 1,
   "id": "c330b6cf",
   "metadata": {},
   "outputs": [],
   "source": [
    "import glob\n",
    "import cv2 #cv2 requires the package opencv-python to be installed. This package may be sometimes reluctant, \n",
    "           #depending on the version of python you are using. Hence, if not working, you can run this in Google Colab\n",
    "           #and upload the required files\n"
   ]
  },
  {
   "cell_type": "code",
   "execution_count": null,
   "id": "016fb3f8",
   "metadata": {},
   "outputs": [],
   "source": [
    "img_array = []\n",
    "filenames = [img for img in glob.glob('/content/*.png')]  #list of the plots of a given comparaison\n",
    "filenames.sort() #sort the names by increasing order, otherwise doesn't do this as default\n",
    "for filename in filenames:\n",
    "    img = cv2.imread(filename)\n",
    "    height, width, layers = img.shape\n",
    "    size = (width, height)\n",
    "    img_array.append(img)\n",
    "\n",
    "out = cv2.VideoWriter('/content/lat_sd.avi',  #filename\n",
    "                      cv2.VideoWriter_fourcc(*'DIVX'), #format\n",
    "                      2,   #fps\n",
    "                      size)\n",
    "\n",
    "for i in range(len(img_array)):\n",
    "    out.write(img_array[i])\n",
    "out.release()"
   ]
  }
 ],
 "metadata": {
  "kernelspec": {
   "display_name": "Python 3 (ipykernel)",
   "language": "python",
   "name": "python3"
  },
  "language_info": {
   "codemirror_mode": {
    "name": "ipython",
    "version": 3
   },
   "file_extension": ".py",
   "mimetype": "text/x-python",
   "name": "python",
   "nbconvert_exporter": "python",
   "pygments_lexer": "ipython3",
   "version": "3.9.7"
  }
 },
 "nbformat": 4,
 "nbformat_minor": 5
}
